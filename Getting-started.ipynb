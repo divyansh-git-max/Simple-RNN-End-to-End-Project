{
 "cells": [
  {
   "cell_type": "code",
   "execution_count": 1,
   "id": "c9a7b1a9",
   "metadata": {},
   "outputs": [
    {
     "name": "stdout",
     "output_type": "stream",
     "text": [
      "WARNING:tensorflow:From c:\\Users\\Admin\\MLP\\RNN\\env\\Lib\\site-packages\\keras\\src\\losses.py:2976: The name tf.losses.sparse_softmax_cross_entropy is deprecated. Please use tf.compat.v1.losses.sparse_softmax_cross_entropy instead.\n",
      "\n"
     ]
    }
   ],
   "source": [
    "from tensorflow.keras.preprocessing.text import one_hot"
   ]
  },
  {
   "cell_type": "code",
   "execution_count": 2,
   "id": "597d8348",
   "metadata": {},
   "outputs": [
    {
     "data": {
      "text/plain": [
       "<function keras.src.preprocessing.text.one_hot(input_text, n, filters='!\"#$%&()*+,-./:;<=>?@[\\\\]^_`{|}~\\t\\n', lower=True, split=' ', analyzer=None)>"
      ]
     },
     "execution_count": 2,
     "metadata": {},
     "output_type": "execute_result"
    }
   ],
   "source": [
    "one_hot"
   ]
  },
  {
   "cell_type": "code",
   "execution_count": 3,
   "id": "95b47d39",
   "metadata": {},
   "outputs": [],
   "source": [
    "sent = ['Use a sleep tracker or app to monitor your sleep patterns and aim for 7–9 hours nightly.',\n",
    "        'Mental well-being is just as important as physical health for peak performance.',\n",
    "        'Schedule it like any other important activity and keep it consistent each week.',\n",
    "        'Brisk walking, cycling, and swimming are all excellent for your heart!',\n",
    "        'Make sure you’re pain-free, have full movement, and get your doctor’s approval.']"
   ]
  },
  {
   "cell_type": "code",
   "execution_count": 11,
   "id": "6a6fb041",
   "metadata": {},
   "outputs": [
    {
     "data": {
      "text/plain": [
       "['Use a sleep tracker or app to monitor your sleep patterns and aim for 7–9 hours nightly.',\n",
       " 'Mental well-being is just as important as physical health for peak performance.',\n",
       " 'Schedule it like any other important activity and keep it consistent each week.',\n",
       " 'Brisk walking, cycling, and swimming are all excellent for your heart!',\n",
       " 'Make sure you’re pain-free, have full movement, and get your doctor’s approval.']"
      ]
     },
     "execution_count": 11,
     "metadata": {},
     "output_type": "execute_result"
    }
   ],
   "source": [
    "sent"
   ]
  },
  {
   "cell_type": "markdown",
   "id": "6026065d",
   "metadata": {},
   "source": [
    "# Vocab_size=10000"
   ]
  },
  {
   "cell_type": "code",
   "execution_count": 12,
   "id": "d3ea3de3",
   "metadata": {},
   "outputs": [
    {
     "data": {
      "text/plain": [
       "[[1515,\n",
       "  4209,\n",
       "  3948,\n",
       "  3202,\n",
       "  2074,\n",
       "  2190,\n",
       "  7400,\n",
       "  8225,\n",
       "  3397,\n",
       "  3948,\n",
       "  4620,\n",
       "  6308,\n",
       "  1789,\n",
       "  4955,\n",
       "  1148,\n",
       "  6944,\n",
       "  4801],\n",
       " [401, 6080, 2563, 2560, 526, 3077, 2681, 3077, 7228, 19, 4955, 4473, 9371],\n",
       " [4474, 9182, 8199, 1736, 774, 2681, 7874, 6308, 7636, 9182, 1788, 2338, 6236],\n",
       " [7447, 5385, 5645, 6308, 8598, 2370, 5036, 7645, 4955, 3397, 1393],\n",
       " [5232,\n",
       "  3384,\n",
       "  9097,\n",
       "  8520,\n",
       "  1275,\n",
       "  7694,\n",
       "  3202,\n",
       "  6986,\n",
       "  6308,\n",
       "  2327,\n",
       "  3397,\n",
       "  7622,\n",
       "  3908]]"
      ]
     },
     "execution_count": 12,
     "metadata": {},
     "output_type": "execute_result"
    }
   ],
   "source": [
    "voc_size=10000\n",
    "one_hot_repr=[one_hot(words,voc_size) for words in sent]\n",
    "one_hot_repr"
   ]
  },
  {
   "cell_type": "markdown",
   "id": "3f5f5341",
   "metadata": {},
   "source": [
    "# word embedding repr"
   ]
  },
  {
   "cell_type": "code",
   "execution_count": 13,
   "id": "228b882f",
   "metadata": {},
   "outputs": [],
   "source": [
    "from tensorflow.keras.layers import Embedding\n",
    "# from tensorflow.keras.preprocessing.sequence import pad_sequence\n",
    "from tensorflow.keras.utils import pad_sequences\n",
    "from tensorflow.keras.models import Sequential"
   ]
  },
  {
   "cell_type": "code",
   "execution_count": 14,
   "id": "7ed1483b",
   "metadata": {},
   "outputs": [],
   "source": [
    "import numpy as np"
   ]
  },
  {
   "cell_type": "code",
   "execution_count": 20,
   "id": "32887067",
   "metadata": {},
   "outputs": [],
   "source": [
    "sent_len=16"
   ]
  },
  {
   "cell_type": "code",
   "execution_count": 25,
   "id": "70c83770",
   "metadata": {},
   "outputs": [],
   "source": [
    "embedded_docs=pad_sequences(one_hot_repr,padding='pre',maxlen=sent_len) "
   ]
  },
  {
   "cell_type": "code",
   "execution_count": 26,
   "id": "a10bc130",
   "metadata": {},
   "outputs": [
    {
     "name": "stdout",
     "output_type": "stream",
     "text": [
      "[[4209 3948 3202 2074 2190 7400 8225 3397 3948 4620 6308 1789 4955 1148\n",
      "  6944 4801]\n",
      " [   0    0    0  401 6080 2563 2560  526 3077 2681 3077 7228   19 4955\n",
      "  4473 9371]\n",
      " [   0    0    0 4474 9182 8199 1736  774 2681 7874 6308 7636 9182 1788\n",
      "  2338 6236]\n",
      " [   0    0    0    0    0 7447 5385 5645 6308 8598 2370 5036 7645 4955\n",
      "  3397 1393]\n",
      " [   0    0    0 5232 3384 9097 8520 1275 7694 3202 6986 6308 2327 3397\n",
      "  7622 3908]]\n"
     ]
    }
   ],
   "source": [
    "print(embedded_docs)"
   ]
  },
  {
   "cell_type": "code",
   "execution_count": 28,
   "id": "60f298ee",
   "metadata": {},
   "outputs": [
    {
     "name": "stdout",
     "output_type": "stream",
     "text": [
      "WARNING:tensorflow:From c:\\Users\\Admin\\MLP\\RNN\\env\\Lib\\site-packages\\keras\\src\\optimizers\\__init__.py:309: The name tf.train.Optimizer is deprecated. Please use tf.compat.v1.train.Optimizer instead.\n",
      "\n"
     ]
    }
   ],
   "source": [
    "# feature req\n",
    "dim=10\n",
    "model=Sequential()\n",
    "model.add(Embedding(voc_size,dim,input_length=sent_len))\n",
    "model.compile('adam','mse')"
   ]
  },
  {
   "cell_type": "code",
   "execution_count": 29,
   "id": "754d7642",
   "metadata": {},
   "outputs": [
    {
     "name": "stdout",
     "output_type": "stream",
     "text": [
      "Model: \"sequential_1\"\n",
      "_________________________________________________________________\n",
      " Layer (type)                Output Shape              Param #   \n",
      "=================================================================\n",
      " embedding (Embedding)       (None, 16, 10)            100000    \n",
      "                                                                 \n",
      "=================================================================\n",
      "Total params: 100000 (390.62 KB)\n",
      "Trainable params: 100000 (390.62 KB)\n",
      "Non-trainable params: 0 (0.00 Byte)\n",
      "_________________________________________________________________\n"
     ]
    }
   ],
   "source": [
    "model.summary()"
   ]
  },
  {
   "cell_type": "code",
   "execution_count": 32,
   "id": "71acf708",
   "metadata": {},
   "outputs": [
    {
     "name": "stdout",
     "output_type": "stream",
     "text": [
      "1/1 [==============================] - 0s 98ms/step\n"
     ]
    },
    {
     "data": {
      "text/plain": [
       "array([[ 0.03981115,  0.04331602,  0.00114731, -0.04358895,  0.02195073,\n",
       "        -0.02266779, -0.02379079, -0.03804694, -0.04107384, -0.01769973],\n",
       "       [ 0.00633939,  0.0005017 , -0.02657973, -0.04629604,  0.01408099,\n",
       "         0.01454648,  0.03638813,  0.04199072,  0.03527108, -0.03862952],\n",
       "       [-0.01564196,  0.04255501,  0.00270535,  0.00841004,  0.04909399,\n",
       "         0.02270714,  0.03865261, -0.04019213,  0.04134392, -0.01290082],\n",
       "       [ 0.04109914,  0.01129245,  0.03214885, -0.02546837, -0.03551631,\n",
       "        -0.01623137, -0.00701832,  0.00051296, -0.02057505, -0.0417775 ],\n",
       "       [ 0.005922  , -0.02844954, -0.04016095, -0.04883623, -0.02799498,\n",
       "         0.02666011, -0.01659541, -0.02029212,  0.03097694,  0.01508017],\n",
       "       [-0.03209784, -0.04072027, -0.00657946, -0.00431558,  0.02590814,\n",
       "         0.02403721, -0.04137411, -0.04036193,  0.00568328,  0.04362369],\n",
       "       [-0.04529561, -0.01934726, -0.00072728,  0.04193566, -0.02127924,\n",
       "        -0.01929001,  0.00756558, -0.04663036,  0.03304921,  0.04633304],\n",
       "       [-0.02214447,  0.04146774,  0.01215302, -0.00774443,  0.00703106,\n",
       "        -0.01259611,  0.02277933,  0.02957637,  0.03230577,  0.00862764],\n",
       "       [ 0.00633939,  0.0005017 , -0.02657973, -0.04629604,  0.01408099,\n",
       "         0.01454648,  0.03638813,  0.04199072,  0.03527108, -0.03862952],\n",
       "       [-0.04039615,  0.00567783, -0.03224294,  0.02144134, -0.0066018 ,\n",
       "         0.0352796 , -0.0012541 , -0.04052732,  0.03339182, -0.04344664],\n",
       "       [-0.00369345, -0.03145029,  0.04341966, -0.00127565, -0.0450467 ,\n",
       "         0.02389622, -0.03350568,  0.03585057, -0.03277101, -0.01784312],\n",
       "       [-0.04659872, -0.02596192, -0.0394923 , -0.00444239, -0.02682691,\n",
       "         0.02861274, -0.02137872,  0.0175367 ,  0.0245268 ,  0.02596113],\n",
       "       [-0.00718542,  0.02220592,  0.00643956, -0.00216488,  0.02259651,\n",
       "         0.0002205 , -0.03133934, -0.03805314,  0.00596397, -0.0124123 ],\n",
       "       [ 0.02287457,  0.0210601 ,  0.04612843, -0.03084971, -0.04974041,\n",
       "        -0.01742648,  0.00538326, -0.03982325,  0.02962427, -0.01884609],\n",
       "       [-0.00770054, -0.02714572, -0.04146915,  0.00246022,  0.02183075,\n",
       "        -0.01277621,  0.00961798, -0.01001581,  0.03875115, -0.03232896],\n",
       "       [ 0.00591535,  0.04775811, -0.01024321,  0.00489265, -0.04731954,\n",
       "         0.04522875,  0.01850921, -0.03600961,  0.0277175 , -0.04150422]],\n",
       "      dtype=float32)"
      ]
     },
     "execution_count": 32,
     "metadata": {},
     "output_type": "execute_result"
    }
   ],
   "source": [
    "model.predict(embedded_docs[0])"
   ]
  },
  {
   "cell_type": "code",
   "execution_count": 31,
   "id": "afc2701a",
   "metadata": {},
   "outputs": [
    {
     "data": {
      "text/plain": [
       "array([4209, 3948, 3202, 2074, 2190, 7400, 8225, 3397, 3948, 4620, 6308,\n",
       "       1789, 4955, 1148, 6944, 4801])"
      ]
     },
     "execution_count": 31,
     "metadata": {},
     "output_type": "execute_result"
    }
   ],
   "source": [
    "embedded_docs[0]"
   ]
  },
  {
   "cell_type": "code",
   "execution_count": null,
   "id": "be8c5717",
   "metadata": {},
   "outputs": [],
   "source": []
  }
 ],
 "metadata": {
  "kernelspec": {
   "display_name": "env",
   "language": "python",
   "name": "python3"
  },
  "language_info": {
   "codemirror_mode": {
    "name": "ipython",
    "version": 3
   },
   "file_extension": ".py",
   "mimetype": "text/x-python",
   "name": "python",
   "nbconvert_exporter": "python",
   "pygments_lexer": "ipython3",
   "version": "3.11.6"
  }
 },
 "nbformat": 4,
 "nbformat_minor": 5
}
